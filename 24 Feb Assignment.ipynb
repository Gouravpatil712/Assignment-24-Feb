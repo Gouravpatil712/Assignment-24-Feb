{
 "cells": [
  {
   "cell_type": "markdown",
   "id": "b13b7ab9",
   "metadata": {},
   "source": [
    "##  Question 01 - List any five functions of the pandas library with execution."
   ]
  },
  {
   "cell_type": "markdown",
   "id": "38c6f5e8",
   "metadata": {},
   "source": [
    "# Answer :- \n",
    "\n",
    "# 1. pd.read_csv() - This function reads a CSV (Comma Separated Value) file and returns a pandas dataframe."
   ]
  },
  {
   "cell_type": "code",
   "execution_count": 3,
   "id": "db7f5d53",
   "metadata": {},
   "outputs": [],
   "source": [
    "import pandas as pd\n",
    "\n",
    "# read a csv file and store as a dataframe\n",
    "df = pd.read_csv(r'C:\\gourav datasets\\archive 1\\heart.csv')"
   ]
  },
  {
   "cell_type": "markdown",
   "id": "e5bfee8a",
   "metadata": {},
   "source": [
    "#  2. df.head() - This function returns the first few rows of a dataframe\n",
    "\n"
   ]
  },
  {
   "cell_type": "code",
   "execution_count": 4,
   "id": "4d9cd083",
   "metadata": {},
   "outputs": [
    {
     "data": {
      "text/html": [
       "<div>\n",
       "<style scoped>\n",
       "    .dataframe tbody tr th:only-of-type {\n",
       "        vertical-align: middle;\n",
       "    }\n",
       "\n",
       "    .dataframe tbody tr th {\n",
       "        vertical-align: top;\n",
       "    }\n",
       "\n",
       "    .dataframe thead th {\n",
       "        text-align: right;\n",
       "    }\n",
       "</style>\n",
       "<table border=\"1\" class=\"dataframe\">\n",
       "  <thead>\n",
       "    <tr style=\"text-align: right;\">\n",
       "      <th></th>\n",
       "      <th>Age</th>\n",
       "      <th>Sex</th>\n",
       "      <th>ChestPainType</th>\n",
       "      <th>RestingBP</th>\n",
       "      <th>Cholesterol</th>\n",
       "      <th>FastingBS</th>\n",
       "      <th>RestingECG</th>\n",
       "      <th>MaxHR</th>\n",
       "      <th>ExerciseAngina</th>\n",
       "      <th>Oldpeak</th>\n",
       "      <th>ST_Slope</th>\n",
       "      <th>HeartDisease</th>\n",
       "    </tr>\n",
       "  </thead>\n",
       "  <tbody>\n",
       "    <tr>\n",
       "      <th>0</th>\n",
       "      <td>40</td>\n",
       "      <td>M</td>\n",
       "      <td>ATA</td>\n",
       "      <td>140</td>\n",
       "      <td>289</td>\n",
       "      <td>0</td>\n",
       "      <td>Normal</td>\n",
       "      <td>172</td>\n",
       "      <td>N</td>\n",
       "      <td>0.0</td>\n",
       "      <td>Up</td>\n",
       "      <td>0</td>\n",
       "    </tr>\n",
       "    <tr>\n",
       "      <th>1</th>\n",
       "      <td>49</td>\n",
       "      <td>F</td>\n",
       "      <td>NAP</td>\n",
       "      <td>160</td>\n",
       "      <td>180</td>\n",
       "      <td>0</td>\n",
       "      <td>Normal</td>\n",
       "      <td>156</td>\n",
       "      <td>N</td>\n",
       "      <td>1.0</td>\n",
       "      <td>Flat</td>\n",
       "      <td>1</td>\n",
       "    </tr>\n",
       "    <tr>\n",
       "      <th>2</th>\n",
       "      <td>37</td>\n",
       "      <td>M</td>\n",
       "      <td>ATA</td>\n",
       "      <td>130</td>\n",
       "      <td>283</td>\n",
       "      <td>0</td>\n",
       "      <td>ST</td>\n",
       "      <td>98</td>\n",
       "      <td>N</td>\n",
       "      <td>0.0</td>\n",
       "      <td>Up</td>\n",
       "      <td>0</td>\n",
       "    </tr>\n",
       "    <tr>\n",
       "      <th>3</th>\n",
       "      <td>48</td>\n",
       "      <td>F</td>\n",
       "      <td>ASY</td>\n",
       "      <td>138</td>\n",
       "      <td>214</td>\n",
       "      <td>0</td>\n",
       "      <td>Normal</td>\n",
       "      <td>108</td>\n",
       "      <td>Y</td>\n",
       "      <td>1.5</td>\n",
       "      <td>Flat</td>\n",
       "      <td>1</td>\n",
       "    </tr>\n",
       "    <tr>\n",
       "      <th>4</th>\n",
       "      <td>54</td>\n",
       "      <td>M</td>\n",
       "      <td>NAP</td>\n",
       "      <td>150</td>\n",
       "      <td>195</td>\n",
       "      <td>0</td>\n",
       "      <td>Normal</td>\n",
       "      <td>122</td>\n",
       "      <td>N</td>\n",
       "      <td>0.0</td>\n",
       "      <td>Up</td>\n",
       "      <td>0</td>\n",
       "    </tr>\n",
       "  </tbody>\n",
       "</table>\n",
       "</div>"
      ],
      "text/plain": [
       "   Age Sex ChestPainType  RestingBP  Cholesterol  FastingBS RestingECG  MaxHR  \\\n",
       "0   40   M           ATA        140          289          0     Normal    172   \n",
       "1   49   F           NAP        160          180          0     Normal    156   \n",
       "2   37   M           ATA        130          283          0         ST     98   \n",
       "3   48   F           ASY        138          214          0     Normal    108   \n",
       "4   54   M           NAP        150          195          0     Normal    122   \n",
       "\n",
       "  ExerciseAngina  Oldpeak ST_Slope  HeartDisease  \n",
       "0              N      0.0       Up             0  \n",
       "1              N      1.0     Flat             1  \n",
       "2              N      0.0       Up             0  \n",
       "3              Y      1.5     Flat             1  \n",
       "4              N      0.0       Up             0  "
      ]
     },
     "execution_count": 4,
     "metadata": {},
     "output_type": "execute_result"
    }
   ],
   "source": [
    "# read a csv file and store as a dataframe\n",
    "\n",
    "# print the first 5 rows of the dataframe\n",
    "df.head()"
   ]
  },
  {
   "cell_type": "markdown",
   "id": "2778ba92",
   "metadata": {},
   "source": [
    "# 3. df.describe() - This function returns a summary of statistics for each column in a dataframe."
   ]
  },
  {
   "cell_type": "code",
   "execution_count": 5,
   "id": "2c1ade27",
   "metadata": {},
   "outputs": [
    {
     "data": {
      "text/html": [
       "<div>\n",
       "<style scoped>\n",
       "    .dataframe tbody tr th:only-of-type {\n",
       "        vertical-align: middle;\n",
       "    }\n",
       "\n",
       "    .dataframe tbody tr th {\n",
       "        vertical-align: top;\n",
       "    }\n",
       "\n",
       "    .dataframe thead th {\n",
       "        text-align: right;\n",
       "    }\n",
       "</style>\n",
       "<table border=\"1\" class=\"dataframe\">\n",
       "  <thead>\n",
       "    <tr style=\"text-align: right;\">\n",
       "      <th></th>\n",
       "      <th>Age</th>\n",
       "      <th>RestingBP</th>\n",
       "      <th>Cholesterol</th>\n",
       "      <th>FastingBS</th>\n",
       "      <th>MaxHR</th>\n",
       "      <th>Oldpeak</th>\n",
       "      <th>HeartDisease</th>\n",
       "    </tr>\n",
       "  </thead>\n",
       "  <tbody>\n",
       "    <tr>\n",
       "      <th>count</th>\n",
       "      <td>918.000000</td>\n",
       "      <td>918.000000</td>\n",
       "      <td>918.000000</td>\n",
       "      <td>918.000000</td>\n",
       "      <td>918.000000</td>\n",
       "      <td>918.000000</td>\n",
       "      <td>918.000000</td>\n",
       "    </tr>\n",
       "    <tr>\n",
       "      <th>mean</th>\n",
       "      <td>53.510893</td>\n",
       "      <td>132.396514</td>\n",
       "      <td>198.799564</td>\n",
       "      <td>0.233115</td>\n",
       "      <td>136.809368</td>\n",
       "      <td>0.887364</td>\n",
       "      <td>0.553377</td>\n",
       "    </tr>\n",
       "    <tr>\n",
       "      <th>std</th>\n",
       "      <td>9.432617</td>\n",
       "      <td>18.514154</td>\n",
       "      <td>109.384145</td>\n",
       "      <td>0.423046</td>\n",
       "      <td>25.460334</td>\n",
       "      <td>1.066570</td>\n",
       "      <td>0.497414</td>\n",
       "    </tr>\n",
       "    <tr>\n",
       "      <th>min</th>\n",
       "      <td>28.000000</td>\n",
       "      <td>0.000000</td>\n",
       "      <td>0.000000</td>\n",
       "      <td>0.000000</td>\n",
       "      <td>60.000000</td>\n",
       "      <td>-2.600000</td>\n",
       "      <td>0.000000</td>\n",
       "    </tr>\n",
       "    <tr>\n",
       "      <th>25%</th>\n",
       "      <td>47.000000</td>\n",
       "      <td>120.000000</td>\n",
       "      <td>173.250000</td>\n",
       "      <td>0.000000</td>\n",
       "      <td>120.000000</td>\n",
       "      <td>0.000000</td>\n",
       "      <td>0.000000</td>\n",
       "    </tr>\n",
       "    <tr>\n",
       "      <th>50%</th>\n",
       "      <td>54.000000</td>\n",
       "      <td>130.000000</td>\n",
       "      <td>223.000000</td>\n",
       "      <td>0.000000</td>\n",
       "      <td>138.000000</td>\n",
       "      <td>0.600000</td>\n",
       "      <td>1.000000</td>\n",
       "    </tr>\n",
       "    <tr>\n",
       "      <th>75%</th>\n",
       "      <td>60.000000</td>\n",
       "      <td>140.000000</td>\n",
       "      <td>267.000000</td>\n",
       "      <td>0.000000</td>\n",
       "      <td>156.000000</td>\n",
       "      <td>1.500000</td>\n",
       "      <td>1.000000</td>\n",
       "    </tr>\n",
       "    <tr>\n",
       "      <th>max</th>\n",
       "      <td>77.000000</td>\n",
       "      <td>200.000000</td>\n",
       "      <td>603.000000</td>\n",
       "      <td>1.000000</td>\n",
       "      <td>202.000000</td>\n",
       "      <td>6.200000</td>\n",
       "      <td>1.000000</td>\n",
       "    </tr>\n",
       "  </tbody>\n",
       "</table>\n",
       "</div>"
      ],
      "text/plain": [
       "              Age   RestingBP  Cholesterol   FastingBS       MaxHR  \\\n",
       "count  918.000000  918.000000   918.000000  918.000000  918.000000   \n",
       "mean    53.510893  132.396514   198.799564    0.233115  136.809368   \n",
       "std      9.432617   18.514154   109.384145    0.423046   25.460334   \n",
       "min     28.000000    0.000000     0.000000    0.000000   60.000000   \n",
       "25%     47.000000  120.000000   173.250000    0.000000  120.000000   \n",
       "50%     54.000000  130.000000   223.000000    0.000000  138.000000   \n",
       "75%     60.000000  140.000000   267.000000    0.000000  156.000000   \n",
       "max     77.000000  200.000000   603.000000    1.000000  202.000000   \n",
       "\n",
       "          Oldpeak  HeartDisease  \n",
       "count  918.000000    918.000000  \n",
       "mean     0.887364      0.553377  \n",
       "std      1.066570      0.497414  \n",
       "min     -2.600000      0.000000  \n",
       "25%      0.000000      0.000000  \n",
       "50%      0.600000      1.000000  \n",
       "75%      1.500000      1.000000  \n",
       "max      6.200000      1.000000  "
      ]
     },
     "execution_count": 5,
     "metadata": {},
     "output_type": "execute_result"
    }
   ],
   "source": [
    "# print the summary statistics for each column\n",
    "df.describe()\n"
   ]
  },
  {
   "cell_type": "markdown",
   "id": "228298df",
   "metadata": {},
   "source": [
    "# 4. df.drop() - This function removes one or more specified columns or rows from a dataframe."
   ]
  },
  {
   "cell_type": "code",
   "execution_count": 7,
   "id": "71e226d2",
   "metadata": {},
   "outputs": [],
   "source": [
    "# drop the 'column1' and 'column2' columns from the dataframe\n",
    "df = df.drop(['MaxHR'], axis=1)\n"
   ]
  },
  {
   "cell_type": "markdown",
   "id": "9e02c11f",
   "metadata": {},
   "source": [
    "# 5. df.groupby() - This function groups the rows of a dataframe based on one or more columns, and applies an aggregate function to each group."
   ]
  },
  {
   "cell_type": "code",
   "execution_count": 10,
   "id": "ba5e0120",
   "metadata": {},
   "outputs": [
    {
     "name": "stdout",
     "output_type": "stream",
     "text": [
      "Age\n",
      "28    0.000000\n",
      "29    0.000000\n",
      "30    0.000000\n",
      "31    0.500000\n",
      "32    0.400000\n",
      "33    0.500000\n",
      "34    0.285714\n",
      "35    0.363636\n",
      "36    0.333333\n",
      "37    0.090909\n",
      "38    0.687500\n",
      "39    0.133333\n",
      "40    0.461538\n",
      "41    0.250000\n",
      "42    0.166667\n",
      "43    0.458333\n",
      "44    0.315789\n",
      "45    0.166667\n",
      "46    0.541667\n",
      "47    0.578947\n",
      "48    0.483871\n",
      "49    0.523810\n",
      "50    0.560000\n",
      "51    0.428571\n",
      "52    0.527778\n",
      "53    0.454545\n",
      "54    0.450980\n",
      "55    0.585366\n",
      "56    0.657895\n",
      "57    0.684211\n",
      "58    0.666667\n",
      "59    0.657143\n",
      "60    0.750000\n",
      "61    0.838710\n",
      "62    0.714286\n",
      "63    0.766667\n",
      "64    0.681818\n",
      "65    0.714286\n",
      "66    0.538462\n",
      "67    0.800000\n",
      "68    0.600000\n",
      "69    0.769231\n",
      "70    0.857143\n",
      "71    0.400000\n",
      "72    0.750000\n",
      "73    1.000000\n",
      "74    0.714286\n",
      "75    0.666667\n",
      "76    0.500000\n",
      "77    1.000000\n",
      "Name: HeartDisease, dtype: float64\n"
     ]
    }
   ],
   "source": [
    "# group the rows by the 'column1' column and calculate the mean of the 'column2' column for each group\n",
    "grouped_df = df.groupby('Age')['HeartDisease'].mean()\n",
    "\n",
    "# print the resulting dataframe\n",
    "print(grouped_df)"
   ]
  },
  {
   "cell_type": "markdown",
   "id": "efa11ef4",
   "metadata": {},
   "source": [
    "## Question 02 - Given a Pandas DataFrame df with columns 'A', 'B', and 'C', write a Python function to re-index the DataFrame with a new index that starts from 1 and increments by 2 for each row."
   ]
  },
  {
   "cell_type": "code",
   "execution_count": 21,
   "id": "93ac921f",
   "metadata": {},
   "outputs": [],
   "source": [
    "## Answer\n",
    "\n",
    "def reindex_dataframe(df):\n",
    "    new_index = pd.RangeIndex(start=1, step=2, stop=2*len(df)+1)\n",
    "    return df.set_index(new_index)\n"
   ]
  },
  {
   "cell_type": "markdown",
   "id": "c44367a6",
   "metadata": {},
   "source": [
    "The reindex_dataframe() function takes a Pandas DataFrame df as input and returns a new DataFrame with a re-indexed row index. The new index starts from 1 and increments by 2 for each row, up to a maximum value of 2*len(df)+1.\n",
    "\n",
    "The function first creates a new RangeIndex object with the desired start, step, and stop values using the pd.RangeIndex() function. It then sets this new index on the original DataFrame using the set_index() method, which creates a new DataFrame with the specified index."
   ]
  },
  {
   "cell_type": "code",
   "execution_count": 20,
   "id": "d0095981",
   "metadata": {},
   "outputs": [
    {
     "name": "stdout",
     "output_type": "stream",
     "text": [
      "   A  B   C\n",
      "1  1  5   9\n",
      "3  2  6  10\n",
      "5  3  7  11\n",
      "7  4  8  12\n"
     ]
    }
   ],
   "source": [
    "# create a sample DataFrame\n",
    "df = pd.DataFrame({'A': [1, 2, 3, 4], 'B': [5, 6, 7, 8], 'C': [9, 10, 11, 12]})\n",
    "\n",
    "# call the reindex_dataframe function\n",
    "new_df = reindex_dataframe(df)\n",
    "\n",
    "# print the new DataFrame\n",
    "print(new_df)\n"
   ]
  },
  {
   "cell_type": "markdown",
   "id": "17454c65",
   "metadata": {},
   "source": [
    "## Question 03 - You have a Pandas DataFrame df with a column named 'Values'. Write a Python function that iterates over the DataFrame and calculates the sum of the first three values in the 'Values' column. The function should print the sum to the console.\n",
    "For example, if the 'Values' column of df contains the values [10, 20, 30, 40, 50], your function should\n",
    "calculate and print the sum of the first three values, which is 60."
   ]
  },
  {
   "cell_type": "code",
   "execution_count": 23,
   "id": "d9e1ca82",
   "metadata": {},
   "outputs": [
    {
     "name": "stdout",
     "output_type": "stream",
     "text": [
      "Sum of first three values:  60\n"
     ]
    }
   ],
   "source": [
    "# Answer :-\n",
    "\n",
    "import pandas as pd\n",
    "\n",
    "def sum_first_three(df):\n",
    "    sum = 0\n",
    "    for i in range(3):\n",
    "        sum = sum + df.iloc[i]['Values']\n",
    "    print(\"Sum of first three values: \", sum)\n",
    "\n",
    "# Example usage:\n",
    "df = pd.DataFrame({'Values': [10, 20, 30, 40, 50]})\n",
    "sum_first_three(df)"
   ]
  },
  {
   "cell_type": "markdown",
   "id": "36321bad",
   "metadata": {},
   "source": [
    "## Question 04 - Given a Pandas DataFrame df with a column 'Text', write a Python function to create a new column 'Word_Count' that contains the number of words in each row of the 'Text' column."
   ]
  },
  {
   "cell_type": "code",
   "execution_count": 24,
   "id": "2a7ccdd3",
   "metadata": {},
   "outputs": [],
   "source": [
    "## Answer :- \n",
    "\n",
    "def count_words(df):\n",
    "    # Split the 'Text' column into words using whitespace as the delimiter\n",
    "    df['Word_Count'] = df['Text'].str.split().str.len()\n",
    "    return df\n"
   ]
  },
  {
   "cell_type": "code",
   "execution_count": 25,
   "id": "ab7e469a",
   "metadata": {},
   "outputs": [
    {
     "name": "stdout",
     "output_type": "stream",
     "text": [
      "                  Text  Word_Count\n",
      "0  This is a sentence.           4\n",
      "1    Another sentence.           2\n"
     ]
    }
   ],
   "source": [
    "df = pd.DataFrame({'Text': ['This is a sentence.', 'Another sentence.']})\n",
    "df = count_words(df)\n",
    "print(df)"
   ]
  },
  {
   "cell_type": "markdown",
   "id": "29e6dacc",
   "metadata": {},
   "source": [
    "## Question 05 - How are DataFrame.size() and DataFrame.shape() different?"
   ]
  },
  {
   "cell_type": "markdown",
   "id": "51a6be3d",
   "metadata": {},
   "source": [
    "# Answer :- \n",
    "\n",
    "1. DataFrame.size() and DataFrame.shape() are both functions in Pandas used to obtain information about the dimensions of a DataFrame. However, they differ in the information they provide.\n",
    "\n",
    "2. DataFrame.size() returns the total number of elements in the DataFrame, i.e., the product of the number of rows and columns.\n",
    "\n",
    "3. DataFrame.shape() returns a tuple of two elements, representing the number of rows and columns in the DataFrame, respectively.\n",
    "\n",
    "In summary, DataFrame.size() returns the total number of elements in the DataFrame, while DataFrame.shape() returns a tuple with the number of rows and columns in the DataFrame."
   ]
  },
  {
   "cell_type": "markdown",
   "id": "f25c3299",
   "metadata": {},
   "source": [
    "## Question 06 - Which function of pandas do we use to read an excel file?"
   ]
  },
  {
   "cell_type": "markdown",
   "id": "236accc8",
   "metadata": {},
   "source": [
    "# Answer :-\n",
    "\n",
    "We use the pandas.read_excel() function to read an Excel file in pandas."
   ]
  },
  {
   "cell_type": "markdown",
   "id": "452dc92a",
   "metadata": {},
   "source": [
    "# Question 07 - You have a Pandas DataFrame df that contains a column named 'Email' that contains email addresses in the format 'username@domain.com'. Write a Python function that creates a new column 'Username' in df that contains only the username part of each email address.\n",
    "The username is the part of the email address that appears before the '@' symbol. For example, if the\n",
    "email address is 'john.doe@example.com', the 'Username' column should contain 'john.doe'. Your\n",
    "function should extract the username from each email address and store it in the new 'Username'\n",
    "column."
   ]
  },
  {
   "cell_type": "code",
   "execution_count": 26,
   "id": "5e889ecd",
   "metadata": {},
   "outputs": [],
   "source": [
    "# Answer :- \n",
    "\n",
    "def extract_username(df):\n",
    "    # Create a new column 'Username' in df\n",
    "    df['Username'] = ''\n",
    "\n",
    "    # Iterate over each row in the 'Email' column\n",
    "    for index, row in df.iterrows():\n",
    "        # Extract the username from the email address\n",
    "        username = row['Email'].split('@')[0]\n",
    "        # Set the 'Username' column to the extracted username\n",
    "        df.at[index, 'Username'] = username\n",
    "\n",
    "    # Return the modified DataFrame\n",
    "    return df\n"
   ]
  },
  {
   "cell_type": "code",
   "execution_count": 27,
   "id": "6c4aece7",
   "metadata": {},
   "outputs": [
    {
     "name": "stdout",
     "output_type": "stream",
     "text": [
      "                 Email Username\n",
      "0   gourav@example.com   gourav\n",
      "1     ajay@example.com     ajay\n",
      "2  devansh@example.com  devansh\n"
     ]
    }
   ],
   "source": [
    "# Example DataFrame\n",
    "df = pd.DataFrame({'Email': ['gourav@example.com', 'ajay@example.com', 'devansh@example.com']})\n",
    "\n",
    "# Call the extract_username() function\n",
    "df = extract_username(df)\n",
    "\n",
    "# Print the modified DataFrame\n",
    "print(df)\n"
   ]
  },
  {
   "cell_type": "markdown",
   "id": "7375c6b3",
   "metadata": {},
   "source": [
    "## Question 08 - You have a Pandas DataFrame df with columns 'A', 'B', and 'C'. Write a Python function that selects\n",
    "all rows where the value in column 'A' is greater than 5 and the value in column 'B' is less than 10. The\n",
    "function should return a new DataFrame that contains only the selected rows.\n",
    "For example, if df contains the following values:\n",
    "A B C\n",
    "0 3 5 1\n",
    "1 8 2 7\n",
    "2 6 9 4\n",
    "3 2 3 5\n",
    "4 9 1 2\n",
    "Your function should select the following rows: A B C\n",
    "1 8 2 7\n",
    "4 9 1 2\n",
    "The function should return a new DataFrame that contains only the selected rows."
   ]
  },
  {
   "cell_type": "code",
   "execution_count": 28,
   "id": "5a375574",
   "metadata": {},
   "outputs": [],
   "source": [
    "# Answer :-\n",
    "\n",
    "def select_rows(df):\n",
    "    selected_rows = df[(df['A'] > 5) & (df['B'] < 10)]\n",
    "    return selected_rows\n"
   ]
  },
  {
   "cell_type": "code",
   "execution_count": 29,
   "id": "9ae7250f",
   "metadata": {},
   "outputs": [
    {
     "name": "stdout",
     "output_type": "stream",
     "text": [
      "   A  B  C\n",
      "1  8  2  7\n",
      "2  6  9  4\n",
      "4  9  1  2\n"
     ]
    }
   ],
   "source": [
    "df = pd.DataFrame({\n",
    "    'A': [3, 8, 6, 2, 9],\n",
    "    'B': [5, 2, 9, 3, 1],\n",
    "    'C': [1, 7, 4, 5, 2]\n",
    "})\n",
    "\n",
    "selected_rows = select_rows(df)\n",
    "print(selected_rows)\n"
   ]
  },
  {
   "cell_type": "markdown",
   "id": "68fb68bf",
   "metadata": {},
   "source": [
    "This function takes in a Pandas DataFrame df and selects all rows where the value in column 'A' is greater than 5 and the value in column 'B' is less than 10. The function returns a new DataFrame selected_rows that contains only the selected rows."
   ]
  },
  {
   "cell_type": "markdown",
   "id": "f582b665",
   "metadata": {},
   "source": [
    "## Question 09 - Given a Pandas DataFrame df with a column 'Values', write a Python function to calculate the mean, median, and standard deviation of the values in the 'Values' column."
   ]
  },
  {
   "cell_type": "code",
   "execution_count": 30,
   "id": "026b47b8",
   "metadata": {},
   "outputs": [],
   "source": [
    "# Answer :-\n",
    "\n",
    "import pandas as pd\n",
    "\n",
    "def calculate_stats(df):\n",
    "    mean = df['Values'].mean()\n",
    "    median = df['Values'].median()\n",
    "    std = df['Values'].std()\n",
    "    print(\"Mean: \", mean)\n",
    "    print(\"Median: \", median)\n",
    "    print(\"Standard Deviation: \", std)\n"
   ]
  },
  {
   "cell_type": "code",
   "execution_count": 31,
   "id": "a36242a2",
   "metadata": {},
   "outputs": [
    {
     "name": "stdout",
     "output_type": "stream",
     "text": [
      "Mean:  30.0\n",
      "Median:  30.0\n",
      "Standard Deviation:  15.811388300841896\n"
     ]
    }
   ],
   "source": [
    "df = pd.DataFrame({'Values': [10, 20, 30, 40, 50]})\n",
    "calculate_stats(df)\n"
   ]
  },
  {
   "cell_type": "markdown",
   "id": "93cffb06",
   "metadata": {},
   "source": [
    "## Question 10 - Given a Pandas DataFrame df with a column 'Sales' and a column 'Date', write a Python function to\n",
    "create a new column 'MovingAverage' that contains the moving average of the sales for the past 7 days\n",
    "for each row in the DataFrame. The moving average should be calculated using a window of size 7 and\n",
    "should include the current day."
   ]
  },
  {
   "cell_type": "code",
   "execution_count": 32,
   "id": "a50444b5",
   "metadata": {},
   "outputs": [
    {
     "name": "stdout",
     "output_type": "stream",
     "text": [
      "   Sales       Date  MovingAverage\n",
      "0     10 2022-01-01      10.000000\n",
      "1     15 2022-01-02      12.500000\n",
      "2     20 2022-01-03      15.000000\n",
      "3     12 2022-01-04      14.250000\n",
      "4     25 2022-01-05      16.400000\n",
      "5     18 2022-01-06      16.666667\n",
      "6     22 2022-01-07      17.428571\n",
      "7     30 2022-01-08      20.285714\n",
      "8     15 2022-01-09      20.285714\n",
      "9     20 2022-01-10      20.285714\n"
     ]
    }
   ],
   "source": [
    "## Answer :-\n",
    "\n",
    "import pandas as pd\n",
    "import numpy as np\n",
    "\n",
    "# Create sample DataFrame\n",
    "df = pd.DataFrame({\n",
    "    'Sales': [10, 15, 20, 12, 25, 18, 22, 30, 15, 20],\n",
    "    'Date': pd.date_range(start='2022-01-01', end='2022-01-10')\n",
    "})\n",
    "\n",
    "# Calculate moving average\n",
    "window_size = 7\n",
    "df['MovingAverage'] = df['Sales'].rolling(window_size, min_periods=1).mean()\n",
    "\n",
    "print(df)"
   ]
  },
  {
   "cell_type": "markdown",
   "id": "5426fd84",
   "metadata": {},
   "source": [
    " we first import the necessary libraries and create a sample DataFrame with 10 rows of data, containing 'Sales' and 'Date' columns. We then specify a window size of 7 days and use the rolling() function to calculate the moving average for each row. Finally, we add a new 'MovingAverage' column to the DataFrame containing the calculated moving averages.\n",
    "\n",
    "The min_periods=1 parameter ensures that the moving average is calculated even if there are less than 7 days of sales data available. This ensures that the first 6 rows of the 'MovingAverage' column have the same value as the 'Sales' column."
   ]
  },
  {
   "cell_type": "markdown",
   "id": "787cb656",
   "metadata": {},
   "source": [
    "## Question 11 - You have a Pandas DataFrame df with a column 'Date'. Write a Python function that creates a new\n",
    "column 'Weekday' in the DataFrame. The 'Weekday' column should contain the weekday name (e.g.\n",
    "Monday, Tuesday) corresponding to each date in the 'Date' column.\n",
    "For example, if df contains the following values:\n",
    "Date\n",
    "0 2023-01-01\n",
    "1 2023-01-02\n",
    "2 2023-01-03\n",
    "3 2023-01-04\n",
    "4 2023-01-05\n",
    "Your function should create the following DataFrame:\n",
    "\n",
    "Date Weekday\n",
    "0 2023-01-01 Sunday\n",
    "1 2023-01-02 Monday\n",
    "2 2023-01-03 Tuesday\n",
    "3 2023-01-04 Wednesday\n",
    "4 2023-01-05 Thursday\n",
    "The function should return the modified DataFrame."
   ]
  },
  {
   "cell_type": "code",
   "execution_count": 36,
   "id": "ff3f3233",
   "metadata": {},
   "outputs": [
    {
     "name": "stdout",
     "output_type": "stream",
     "text": [
      "        Date    Weekday\n",
      "0 2023-01-01     Sunday\n",
      "1 2023-01-02     Monday\n",
      "2 2023-01-03    Tuesday\n",
      "3 2023-01-04  Wednesday\n",
      "4 2023-01-05   Thursday\n"
     ]
    }
   ],
   "source": [
    "# Answer :-\n",
    "\n",
    "# create sample dataframe\n",
    "df = pd.DataFrame({'Date': ['2023-01-01', '2023-01-02', '2023-01-03', '2023-01-04', '2023-01-05']})\n",
    "\n",
    "# convert 'Date' column to datetime format\n",
    "df['Date'] = pd.to_datetime(df['Date'])\n",
    "\n",
    "# extract weekday name and create new column 'Weekday'\n",
    "df['Weekday'] = df['Date'].dt.day_name()\n",
    "\n",
    "# print modified dataframe\n",
    "print(df)"
   ]
  },
  {
   "cell_type": "markdown",
   "id": "3a537f88",
   "metadata": {},
   "source": [
    "## Question 12 - Given a Pandas DataFrame df with a column 'Date' that contains timestamps, write a Python function to select all rows where the date is between '2023-01-01' and '2023-01-31'."
   ]
  },
  {
   "cell_type": "code",
   "execution_count": 44,
   "id": "b430db47",
   "metadata": {},
   "outputs": [
    {
     "name": "stdout",
     "output_type": "stream",
     "text": [
      "        Date  Values\n",
      "0 2023-01-01       1\n",
      "1 2023-01-15       2\n",
      "2 2023-01-25       3\n",
      "3 2023-02-10       4\n",
      "4 2023-02-15       5\n"
     ]
    }
   ],
   "source": [
    "# Answer :-\n",
    "\n",
    "import pandas as pd\n",
    "\n",
    "# create a list of dates\n",
    "dates = ['2023-01-01', '2023-01-15', '2023-01-25', '2023-02-10', '2023-02-15']\n",
    "\n",
    "# convert the dates to pandas datetime objects\n",
    "dates = pd.to_datetime(dates)\n",
    "\n",
    "# create a dictionary with data\n",
    "data = {'Date': dates, 'Values': [1, 2, 3, 4, 5]}\n",
    "\n",
    "# create a DataFrame\n",
    "df = pd.DataFrame(data)\n",
    "\n",
    "# print the DataFrame\n",
    "print(df)\n"
   ]
  },
  {
   "cell_type": "code",
   "execution_count": 45,
   "id": "5455727c",
   "metadata": {},
   "outputs": [],
   "source": [
    "def select_rows_between_dates(df):\n",
    "    start_date = pd.to_datetime('2023-01-01')\n",
    "    end_date = pd.to_datetime('2023-01-31')\n",
    "    mask = (df['Date'] >= start_date) & (df['Date'] <= end_date)\n",
    "    result = df.loc[mask]\n",
    "    return result\n"
   ]
  },
  {
   "cell_type": "code",
   "execution_count": 46,
   "id": "9d53e1c8",
   "metadata": {},
   "outputs": [
    {
     "name": "stdout",
     "output_type": "stream",
     "text": [
      "        Date  Values\n",
      "0 2023-01-01       1\n",
      "1 2023-01-15       2\n",
      "2 2023-01-25       3\n"
     ]
    }
   ],
   "source": [
    "selected_rows = select_rows_between_dates(df)\n",
    "print(selected_rows)"
   ]
  },
  {
   "cell_type": "markdown",
   "id": "fa9581bc",
   "metadata": {},
   "source": [
    "## Question 13 - To use the basic functions of pandas, what is the first and foremost necessary library that needs to be imported?"
   ]
  },
  {
   "cell_type": "markdown",
   "id": "3825a204",
   "metadata": {},
   "source": [
    "# Answer :-\n",
    "\n",
    "The first and foremost necessary library that needs to be imported to use the basic functions of Pandas is the pandas library itself.\n",
    "\n",
    "You can import the Pandas library using the following line of code:\n",
    "\n",
    "import pandas as pd\n",
    "\n",
    "The as pd part of the line simply creates an alias for the library that you can use throughout your code to refer to Pandas functions and objects. This is a common convention in Python and helps to make your code more readable.\n",
    "\n",
    "Once you have imported the Pandas library, you can start using its functions and objects to work with data in Python. For example, you can create a DataFrame using the pd.DataFrame() function, read data from a file using the pd.read_csv() function, or manipulate data using Pandas' powerful indexing and slicing features."
   ]
  },
  {
   "cell_type": "code",
   "execution_count": null,
   "id": "1b0aad5a",
   "metadata": {},
   "outputs": [],
   "source": []
  }
 ],
 "metadata": {
  "kernelspec": {
   "display_name": "Python 3 (ipykernel)",
   "language": "python",
   "name": "python3"
  },
  "language_info": {
   "codemirror_mode": {
    "name": "ipython",
    "version": 3
   },
   "file_extension": ".py",
   "mimetype": "text/x-python",
   "name": "python",
   "nbconvert_exporter": "python",
   "pygments_lexer": "ipython3",
   "version": "3.9.12"
  }
 },
 "nbformat": 4,
 "nbformat_minor": 5
}
